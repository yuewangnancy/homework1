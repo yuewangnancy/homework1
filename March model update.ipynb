{
 "cells": [
  {
   "cell_type": "code",
   "execution_count": 17,
   "metadata": {},
   "outputs": [],
   "source": [
    "import pandas as pd"
   ]
  },
  {
   "cell_type": "code",
   "execution_count": 18,
   "metadata": {},
   "outputs": [],
   "source": [
    "import numpy as np"
   ]
  },
  {
   "cell_type": "code",
   "execution_count": 19,
   "metadata": {},
   "outputs": [],
   "source": [
    "dataset = pd.read_csv('NCAA_Tourney_2002_2019_update.csv')"
   ]
  },
  {
   "cell_type": "code",
   "execution_count": null,
   "metadata": {},
   "outputs": [],
   "source": []
  },
  {
   "cell_type": "code",
   "execution_count": 20,
   "metadata": {},
   "outputs": [],
   "source": [
    "dataset['team1_win'] = (dataset['team1_score']>dataset['team2_score']).astype(int)"
   ]
  },
  {
   "cell_type": "code",
   "execution_count": 21,
   "metadata": {},
   "outputs": [],
   "source": [
    "## Establish Log5"
   ]
  },
  {
   "cell_type": "code",
   "execution_count": 22,
   "metadata": {},
   "outputs": [],
   "source": [
    "### first calculate \n",
    "### E(W%) = points scored^11.5 / (points scored^11.5+points allowed^11.5)"
   ]
  },
  {
   "cell_type": "code",
   "execution_count": 23,
   "metadata": {},
   "outputs": [],
   "source": [
    "dataset['exp_win1'] = (dataset['team1_adjoe']**11.5)/ ((dataset['team1_adjde']**11.5)+(dataset['team1_adjoe']**11.5))\n",
    "dataset['exp_win2'] = (dataset['team2_adjoe']**11.5)/ ((dataset['team2_adjde']**11.5)+(dataset['team2_adjoe']**11.5))"
   ]
  },
  {
   "cell_type": "code",
   "execution_count": 24,
   "metadata": {},
   "outputs": [],
   "source": [
    "dataset['team1_log5'] = (dataset['exp_win1'] - (dataset['exp_win1']*dataset['exp_win2']))/ (dataset['exp_win1']+dataset['exp_win2']-(2*dataset['exp_win1']*dataset['exp_win2']))"
   ]
  },
  {
   "cell_type": "code",
   "execution_count": 25,
   "metadata": {},
   "outputs": [
    {
     "data": {
      "text/html": [
       "<div>\n",
       "<style scoped>\n",
       "    .dataframe tbody tr th:only-of-type {\n",
       "        vertical-align: middle;\n",
       "    }\n",
       "\n",
       "    .dataframe tbody tr th {\n",
       "        vertical-align: top;\n",
       "    }\n",
       "\n",
       "    .dataframe thead th {\n",
       "        text-align: right;\n",
       "    }\n",
       "</style>\n",
       "<table border=\"1\" class=\"dataframe\">\n",
       "  <thead>\n",
       "    <tr style=\"text-align: right;\">\n",
       "      <th></th>\n",
       "      <th>team1_adjoe</th>\n",
       "      <th>team1_teamname</th>\n",
       "      <th>season</th>\n",
       "      <th>team2_teamname</th>\n",
       "      <th>team1_adjde</th>\n",
       "      <th>exp_win1</th>\n",
       "      <th>exp_win2</th>\n",
       "      <th>team1_log5</th>\n",
       "    </tr>\n",
       "  </thead>\n",
       "  <tbody>\n",
       "    <tr>\n",
       "      <td>0</td>\n",
       "      <td>106.296</td>\n",
       "      <td>F Dickinson</td>\n",
       "      <td>2019</td>\n",
       "      <td>Prairie View</td>\n",
       "      <td>110.5500</td>\n",
       "      <td>0.389061</td>\n",
       "      <td>0.382990</td>\n",
       "      <td>0.506403</td>\n",
       "    </tr>\n",
       "    <tr>\n",
       "      <td>1</td>\n",
       "      <td>114.952</td>\n",
       "      <td>Belmont</td>\n",
       "      <td>2019</td>\n",
       "      <td>Temple</td>\n",
       "      <td>101.8860</td>\n",
       "      <td>0.800207</td>\n",
       "      <td>0.738939</td>\n",
       "      <td>0.585922</td>\n",
       "    </tr>\n",
       "    <tr>\n",
       "      <td>2</td>\n",
       "      <td>106.675</td>\n",
       "      <td>N Dakota St</td>\n",
       "      <td>2019</td>\n",
       "      <td>NC Central</td>\n",
       "      <td>109.8730</td>\n",
       "      <td>0.415885</td>\n",
       "      <td>0.208404</td>\n",
       "      <td>0.730051</td>\n",
       "    </tr>\n",
       "    <tr>\n",
       "      <td>3</td>\n",
       "      <td>109.886</td>\n",
       "      <td>Arizona St</td>\n",
       "      <td>2019</td>\n",
       "      <td>St John's</td>\n",
       "      <td>98.6844</td>\n",
       "      <td>0.774944</td>\n",
       "      <td>0.721882</td>\n",
       "      <td>0.570190</td>\n",
       "    </tr>\n",
       "    <tr>\n",
       "      <td>4</td>\n",
       "      <td>110.803</td>\n",
       "      <td>Minnesota</td>\n",
       "      <td>2019</td>\n",
       "      <td>Louisville</td>\n",
       "      <td>96.3335</td>\n",
       "      <td>0.833312</td>\n",
       "      <td>0.913200</td>\n",
       "      <td>0.322116</td>\n",
       "    </tr>\n",
       "  </tbody>\n",
       "</table>\n",
       "</div>"
      ],
      "text/plain": [
       "   team1_adjoe team1_teamname  season team2_teamname  team1_adjde  exp_win1  \\\n",
       "0      106.296    F Dickinson    2019   Prairie View     110.5500  0.389061   \n",
       "1      114.952        Belmont    2019         Temple     101.8860  0.800207   \n",
       "2      106.675    N Dakota St    2019     NC Central     109.8730  0.415885   \n",
       "3      109.886     Arizona St    2019      St John's      98.6844  0.774944   \n",
       "4      110.803      Minnesota    2019     Louisville      96.3335  0.833312   \n",
       "\n",
       "   exp_win2  team1_log5  \n",
       "0  0.382990    0.506403  \n",
       "1  0.738939    0.585922  \n",
       "2  0.208404    0.730051  \n",
       "3  0.721882    0.570190  \n",
       "4  0.913200    0.322116  "
      ]
     },
     "execution_count": 25,
     "metadata": {},
     "output_type": "execute_result"
    }
   ],
   "source": [
    "dataset[['team1_adjoe','team1_teamname','season','team2_teamname','team1_adjde','exp_win1','exp_win2','team1_log5']].head()"
   ]
  },
  {
   "cell_type": "code",
   "execution_count": 29,
   "metadata": {},
   "outputs": [],
   "source": [
    "seed_diff = list(dataset['team1_seed'] - dataset['team2_seed'])\n",
    "seed_compare = []\n",
    "for i in seed_diff:\n",
    "  if i >= 2:\n",
    "    seed_compare.append(1)\n",
    "  elif i <= 2:\n",
    "    seed_compare.append(-1)\n",
    "  else:\n",
    "    seed_compare.append(0)"
   ]
  },
  {
   "cell_type": "code",
   "execution_count": 31,
   "metadata": {},
   "outputs": [],
   "source": [
    "dataset['seed_diff'] = seed_compare"
   ]
  },
  {
   "cell_type": "code",
   "execution_count": 32,
   "metadata": {},
   "outputs": [
    {
     "data": {
      "text/html": [
       "<div>\n",
       "<style scoped>\n",
       "    .dataframe tbody tr th:only-of-type {\n",
       "        vertical-align: middle;\n",
       "    }\n",
       "\n",
       "    .dataframe tbody tr th {\n",
       "        vertical-align: top;\n",
       "    }\n",
       "\n",
       "    .dataframe thead th {\n",
       "        text-align: right;\n",
       "    }\n",
       "</style>\n",
       "<table border=\"1\" class=\"dataframe\">\n",
       "  <thead>\n",
       "    <tr style=\"text-align: right;\">\n",
       "      <th></th>\n",
       "      <th>game_id</th>\n",
       "      <th>exp_win1</th>\n",
       "      <th>exp_win2</th>\n",
       "      <th>team2_score</th>\n",
       "      <th>team1_score</th>\n",
       "      <th>team1_log5</th>\n",
       "      <th>team1_id</th>\n",
       "      <th>team2_id</th>\n",
       "      <th>seed_diff</th>\n",
       "    </tr>\n",
       "  </thead>\n",
       "  <tbody>\n",
       "    <tr>\n",
       "      <td>0</td>\n",
       "      <td>2019-1192.0-1341.0</td>\n",
       "      <td>0.389061</td>\n",
       "      <td>0.382990</td>\n",
       "      <td>76</td>\n",
       "      <td>82</td>\n",
       "      <td>0.506403</td>\n",
       "      <td>1192.0</td>\n",
       "      <td>1341.0</td>\n",
       "      <td>-1</td>\n",
       "    </tr>\n",
       "    <tr>\n",
       "      <td>1</td>\n",
       "      <td>2019-1125.0-1396.0</td>\n",
       "      <td>0.800207</td>\n",
       "      <td>0.738939</td>\n",
       "      <td>70</td>\n",
       "      <td>81</td>\n",
       "      <td>0.585922</td>\n",
       "      <td>1125.0</td>\n",
       "      <td>1396.0</td>\n",
       "      <td>-1</td>\n",
       "    </tr>\n",
       "    <tr>\n",
       "      <td>2</td>\n",
       "      <td>2019-1295.0-1300.0</td>\n",
       "      <td>0.415885</td>\n",
       "      <td>0.208404</td>\n",
       "      <td>74</td>\n",
       "      <td>78</td>\n",
       "      <td>0.730051</td>\n",
       "      <td>1295.0</td>\n",
       "      <td>1300.0</td>\n",
       "      <td>-1</td>\n",
       "    </tr>\n",
       "    <tr>\n",
       "      <td>3</td>\n",
       "      <td>2019-1113.0-1385.0</td>\n",
       "      <td>0.774944</td>\n",
       "      <td>0.721882</td>\n",
       "      <td>65</td>\n",
       "      <td>74</td>\n",
       "      <td>0.570190</td>\n",
       "      <td>1113.0</td>\n",
       "      <td>1385.0</td>\n",
       "      <td>-1</td>\n",
       "    </tr>\n",
       "    <tr>\n",
       "      <td>4</td>\n",
       "      <td>2019-1278.0-1257.0</td>\n",
       "      <td>0.833312</td>\n",
       "      <td>0.913200</td>\n",
       "      <td>76</td>\n",
       "      <td>86</td>\n",
       "      <td>0.322116</td>\n",
       "      <td>1278.0</td>\n",
       "      <td>1257.0</td>\n",
       "      <td>1</td>\n",
       "    </tr>\n",
       "  </tbody>\n",
       "</table>\n",
       "</div>"
      ],
      "text/plain": [
       "              game_id  exp_win1  exp_win2  team2_score  team1_score  \\\n",
       "0  2019-1192.0-1341.0  0.389061  0.382990           76           82   \n",
       "1  2019-1125.0-1396.0  0.800207  0.738939           70           81   \n",
       "2  2019-1295.0-1300.0  0.415885  0.208404           74           78   \n",
       "3  2019-1113.0-1385.0  0.774944  0.721882           65           74   \n",
       "4  2019-1278.0-1257.0  0.833312  0.913200           76           86   \n",
       "\n",
       "   team1_log5  team1_id  team2_id  seed_diff  \n",
       "0    0.506403    1192.0    1341.0         -1  \n",
       "1    0.585922    1125.0    1396.0         -1  \n",
       "2    0.730051    1295.0    1300.0         -1  \n",
       "3    0.570190    1113.0    1385.0         -1  \n",
       "4    0.322116    1278.0    1257.0          1  "
      ]
     },
     "execution_count": 32,
     "metadata": {},
     "output_type": "execute_result"
    }
   ],
   "source": [
    "dataset[['game_id','exp_win1','exp_win2','team2_score','team1_score','team1_log5','team1_id','team2_id', 'seed_diff']].head()"
   ]
  },
  {
   "cell_type": "code",
   "execution_count": 33,
   "metadata": {},
   "outputs": [],
   "source": [
    "def distance(lat1, lon1, lat2, lon2):\n",
    "\n",
    "    # approximate radius of earth in km\n",
    "    R = 6373.0\n",
    "\n",
    "    lat1 = radians(lat1)\n",
    "    lon1 = radians(lon1)\n",
    "    lat2 = radians(lat2)\n",
    "    lon2 = radians(lon2)\n",
    "\n",
    "    dlon = lon2 - lon1\n",
    "    dlat = lat2 - lat1\n",
    "\n",
    "    a = sin(dlat / 2)**2 + cos(lat1) * cos(lat2) * sin(dlon / 2)**2\n",
    "    c = 2 * atan2(sqrt(a), sqrt(1 - a))\n",
    "\n",
    "    distance = R * c\n",
    "    \n",
    "    return distance"
   ]
  },
  {
   "cell_type": "code",
   "execution_count": 34,
   "metadata": {},
   "outputs": [],
   "source": [
    "from math import sin, cos, sqrt, atan2, radians\n",
    "dataset['dist1'] = dataset.apply(lambda row: distance(row['host_lat'], row['host_long'], row['team1_lat'], row['team1_long']), axis=1)\n",
    "dataset['dist2'] = dataset.apply(lambda row: distance(row['host_lat'], row['host_long'], row['team2_lat'], row['team2_long']), axis=1)"
   ]
  },
  {
   "cell_type": "code",
   "execution_count": 35,
   "metadata": {},
   "outputs": [],
   "source": [
    "dataset['diff_dist'] = dataset['dist1'] - dataset['dist2']"
   ]
  },
  {
   "cell_type": "code",
   "execution_count": null,
   "metadata": {},
   "outputs": [],
   "source": []
  },
  {
   "cell_type": "code",
   "execution_count": null,
   "metadata": {},
   "outputs": [],
   "source": []
  },
  {
   "cell_type": "code",
   "execution_count": null,
   "metadata": {},
   "outputs": [],
   "source": []
  },
  {
   "cell_type": "code",
   "execution_count": null,
   "metadata": {},
   "outputs": [],
   "source": []
  },
  {
   "cell_type": "code",
   "execution_count": null,
   "metadata": {},
   "outputs": [],
   "source": []
  },
  {
   "cell_type": "code",
   "execution_count": null,
   "metadata": {},
   "outputs": [],
   "source": []
  },
  {
   "cell_type": "code",
   "execution_count": null,
   "metadata": {},
   "outputs": [],
   "source": []
  }
 ],
 "metadata": {
  "kernelspec": {
   "display_name": "Python 3",
   "language": "python",
   "name": "python3"
  },
  "language_info": {
   "codemirror_mode": {
    "name": "ipython",
    "version": 3
   },
   "file_extension": ".py",
   "mimetype": "text/x-python",
   "name": "python",
   "nbconvert_exporter": "python",
   "pygments_lexer": "ipython3",
   "version": "3.7.4"
  }
 },
 "nbformat": 4,
 "nbformat_minor": 2
}
